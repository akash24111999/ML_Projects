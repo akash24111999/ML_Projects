{
 "cells": [
  {
   "cell_type": "markdown",
   "metadata": {
    "id": "xpbAcqxvZlXd"
   },
   "source": [
    "![](https://www.medicoverhospitals.in/images/articles/chronic-kidney-disease.jpg)"
   ]
  },
  {
   "cell_type": "code",
   "execution_count": 1,
   "metadata": {
    "id": "sqMyfMAFsqtr"
   },
   "outputs": [],
   "source": [
    "# import necessary libraries like numpy, pandas, pyplot and seaborn\n",
    "import pandas as pd\n",
    "import numpy as np\n",
    "import matplotlib.pyplot as plt\n",
    "import seaborn as sns"
   ]
  },
  {
   "cell_type": "code",
   "execution_count": 2,
   "metadata": {
    "colab": {
     "base_uri": "https://localhost:8080/",
     "height": 235
    },
    "collapsed": true,
    "id": "s-kb-iiFs33N",
    "outputId": "2f5f6353-5c63-4573-c038-d67ac7dc68ef"
   },
   "outputs": [
    {
     "ename": "FileNotFoundError",
     "evalue": "[Errno 2] No such file or directory: '/content/kidney_disease.csv'",
     "output_type": "error",
     "traceback": [
      "\u001b[1;31m---------------------------------------------------------------------------\u001b[0m",
      "\u001b[1;31mFileNotFoundError\u001b[0m                         Traceback (most recent call last)",
      "\u001b[1;32m~\\AppData\\Local\\Temp\\ipykernel_8776\\3448541564.py\u001b[0m in \u001b[0;36m<module>\u001b[1;34m\u001b[0m\n\u001b[0;32m      1\u001b[0m \u001b[1;31m# reading dataset\u001b[0m\u001b[1;33m\u001b[0m\u001b[1;33m\u001b[0m\u001b[0m\n\u001b[1;32m----> 2\u001b[1;33m \u001b[0mchronic_df\u001b[0m \u001b[1;33m=\u001b[0m \u001b[0mpd\u001b[0m\u001b[1;33m.\u001b[0m\u001b[0mread_csv\u001b[0m\u001b[1;33m(\u001b[0m\u001b[1;34m'/content/kidney_disease.csv'\u001b[0m\u001b[1;33m)\u001b[0m\u001b[1;33m\u001b[0m\u001b[1;33m\u001b[0m\u001b[0m\n\u001b[0m\u001b[0;32m      3\u001b[0m \u001b[0mchronic_df\u001b[0m\u001b[1;33m.\u001b[0m\u001b[0mhead\u001b[0m\u001b[1;33m(\u001b[0m\u001b[1;33m)\u001b[0m\u001b[1;33m\u001b[0m\u001b[1;33m\u001b[0m\u001b[0m\n",
      "\u001b[1;32mC:\\ProgramData\\Anaconda3\\lib\\site-packages\\pandas\\util\\_decorators.py\u001b[0m in \u001b[0;36mwrapper\u001b[1;34m(*args, **kwargs)\u001b[0m\n\u001b[0;32m    309\u001b[0m                     \u001b[0mstacklevel\u001b[0m\u001b[1;33m=\u001b[0m\u001b[0mstacklevel\u001b[0m\u001b[1;33m,\u001b[0m\u001b[1;33m\u001b[0m\u001b[1;33m\u001b[0m\u001b[0m\n\u001b[0;32m    310\u001b[0m                 )\n\u001b[1;32m--> 311\u001b[1;33m             \u001b[1;32mreturn\u001b[0m \u001b[0mfunc\u001b[0m\u001b[1;33m(\u001b[0m\u001b[1;33m*\u001b[0m\u001b[0margs\u001b[0m\u001b[1;33m,\u001b[0m \u001b[1;33m**\u001b[0m\u001b[0mkwargs\u001b[0m\u001b[1;33m)\u001b[0m\u001b[1;33m\u001b[0m\u001b[1;33m\u001b[0m\u001b[0m\n\u001b[0m\u001b[0;32m    312\u001b[0m \u001b[1;33m\u001b[0m\u001b[0m\n\u001b[0;32m    313\u001b[0m         \u001b[1;32mreturn\u001b[0m \u001b[0mwrapper\u001b[0m\u001b[1;33m\u001b[0m\u001b[1;33m\u001b[0m\u001b[0m\n",
      "\u001b[1;32mC:\\ProgramData\\Anaconda3\\lib\\site-packages\\pandas\\io\\parsers\\readers.py\u001b[0m in \u001b[0;36mread_csv\u001b[1;34m(filepath_or_buffer, sep, delimiter, header, names, index_col, usecols, squeeze, prefix, mangle_dupe_cols, dtype, engine, converters, true_values, false_values, skipinitialspace, skiprows, skipfooter, nrows, na_values, keep_default_na, na_filter, verbose, skip_blank_lines, parse_dates, infer_datetime_format, keep_date_col, date_parser, dayfirst, cache_dates, iterator, chunksize, compression, thousands, decimal, lineterminator, quotechar, quoting, doublequote, escapechar, comment, encoding, encoding_errors, dialect, error_bad_lines, warn_bad_lines, on_bad_lines, delim_whitespace, low_memory, memory_map, float_precision, storage_options)\u001b[0m\n\u001b[0;32m    676\u001b[0m     \u001b[0mkwds\u001b[0m\u001b[1;33m.\u001b[0m\u001b[0mupdate\u001b[0m\u001b[1;33m(\u001b[0m\u001b[0mkwds_defaults\u001b[0m\u001b[1;33m)\u001b[0m\u001b[1;33m\u001b[0m\u001b[1;33m\u001b[0m\u001b[0m\n\u001b[0;32m    677\u001b[0m \u001b[1;33m\u001b[0m\u001b[0m\n\u001b[1;32m--> 678\u001b[1;33m     \u001b[1;32mreturn\u001b[0m \u001b[0m_read\u001b[0m\u001b[1;33m(\u001b[0m\u001b[0mfilepath_or_buffer\u001b[0m\u001b[1;33m,\u001b[0m \u001b[0mkwds\u001b[0m\u001b[1;33m)\u001b[0m\u001b[1;33m\u001b[0m\u001b[1;33m\u001b[0m\u001b[0m\n\u001b[0m\u001b[0;32m    679\u001b[0m \u001b[1;33m\u001b[0m\u001b[0m\n\u001b[0;32m    680\u001b[0m \u001b[1;33m\u001b[0m\u001b[0m\n",
      "\u001b[1;32mC:\\ProgramData\\Anaconda3\\lib\\site-packages\\pandas\\io\\parsers\\readers.py\u001b[0m in \u001b[0;36m_read\u001b[1;34m(filepath_or_buffer, kwds)\u001b[0m\n\u001b[0;32m    573\u001b[0m \u001b[1;33m\u001b[0m\u001b[0m\n\u001b[0;32m    574\u001b[0m     \u001b[1;31m# Create the parser.\u001b[0m\u001b[1;33m\u001b[0m\u001b[1;33m\u001b[0m\u001b[0m\n\u001b[1;32m--> 575\u001b[1;33m     \u001b[0mparser\u001b[0m \u001b[1;33m=\u001b[0m \u001b[0mTextFileReader\u001b[0m\u001b[1;33m(\u001b[0m\u001b[0mfilepath_or_buffer\u001b[0m\u001b[1;33m,\u001b[0m \u001b[1;33m**\u001b[0m\u001b[0mkwds\u001b[0m\u001b[1;33m)\u001b[0m\u001b[1;33m\u001b[0m\u001b[1;33m\u001b[0m\u001b[0m\n\u001b[0m\u001b[0;32m    576\u001b[0m \u001b[1;33m\u001b[0m\u001b[0m\n\u001b[0;32m    577\u001b[0m     \u001b[1;32mif\u001b[0m \u001b[0mchunksize\u001b[0m \u001b[1;32mor\u001b[0m \u001b[0miterator\u001b[0m\u001b[1;33m:\u001b[0m\u001b[1;33m\u001b[0m\u001b[1;33m\u001b[0m\u001b[0m\n",
      "\u001b[1;32mC:\\ProgramData\\Anaconda3\\lib\\site-packages\\pandas\\io\\parsers\\readers.py\u001b[0m in \u001b[0;36m__init__\u001b[1;34m(self, f, engine, **kwds)\u001b[0m\n\u001b[0;32m    930\u001b[0m \u001b[1;33m\u001b[0m\u001b[0m\n\u001b[0;32m    931\u001b[0m         \u001b[0mself\u001b[0m\u001b[1;33m.\u001b[0m\u001b[0mhandles\u001b[0m\u001b[1;33m:\u001b[0m \u001b[0mIOHandles\u001b[0m \u001b[1;33m|\u001b[0m \u001b[1;32mNone\u001b[0m \u001b[1;33m=\u001b[0m \u001b[1;32mNone\u001b[0m\u001b[1;33m\u001b[0m\u001b[1;33m\u001b[0m\u001b[0m\n\u001b[1;32m--> 932\u001b[1;33m         \u001b[0mself\u001b[0m\u001b[1;33m.\u001b[0m\u001b[0m_engine\u001b[0m \u001b[1;33m=\u001b[0m \u001b[0mself\u001b[0m\u001b[1;33m.\u001b[0m\u001b[0m_make_engine\u001b[0m\u001b[1;33m(\u001b[0m\u001b[0mf\u001b[0m\u001b[1;33m,\u001b[0m \u001b[0mself\u001b[0m\u001b[1;33m.\u001b[0m\u001b[0mengine\u001b[0m\u001b[1;33m)\u001b[0m\u001b[1;33m\u001b[0m\u001b[1;33m\u001b[0m\u001b[0m\n\u001b[0m\u001b[0;32m    933\u001b[0m \u001b[1;33m\u001b[0m\u001b[0m\n\u001b[0;32m    934\u001b[0m     \u001b[1;32mdef\u001b[0m \u001b[0mclose\u001b[0m\u001b[1;33m(\u001b[0m\u001b[0mself\u001b[0m\u001b[1;33m)\u001b[0m\u001b[1;33m:\u001b[0m\u001b[1;33m\u001b[0m\u001b[1;33m\u001b[0m\u001b[0m\n",
      "\u001b[1;32mC:\\ProgramData\\Anaconda3\\lib\\site-packages\\pandas\\io\\parsers\\readers.py\u001b[0m in \u001b[0;36m_make_engine\u001b[1;34m(self, f, engine)\u001b[0m\n\u001b[0;32m   1214\u001b[0m             \u001b[1;31m# \"Union[str, PathLike[str], ReadCsvBuffer[bytes], ReadCsvBuffer[str]]\"\u001b[0m\u001b[1;33m\u001b[0m\u001b[1;33m\u001b[0m\u001b[0m\n\u001b[0;32m   1215\u001b[0m             \u001b[1;31m# , \"str\", \"bool\", \"Any\", \"Any\", \"Any\", \"Any\", \"Any\"\u001b[0m\u001b[1;33m\u001b[0m\u001b[1;33m\u001b[0m\u001b[0m\n\u001b[1;32m-> 1216\u001b[1;33m             self.handles = get_handle(  # type: ignore[call-overload]\n\u001b[0m\u001b[0;32m   1217\u001b[0m                 \u001b[0mf\u001b[0m\u001b[1;33m,\u001b[0m\u001b[1;33m\u001b[0m\u001b[1;33m\u001b[0m\u001b[0m\n\u001b[0;32m   1218\u001b[0m                 \u001b[0mmode\u001b[0m\u001b[1;33m,\u001b[0m\u001b[1;33m\u001b[0m\u001b[1;33m\u001b[0m\u001b[0m\n",
      "\u001b[1;32mC:\\ProgramData\\Anaconda3\\lib\\site-packages\\pandas\\io\\common.py\u001b[0m in \u001b[0;36mget_handle\u001b[1;34m(path_or_buf, mode, encoding, compression, memory_map, is_text, errors, storage_options)\u001b[0m\n\u001b[0;32m    784\u001b[0m         \u001b[1;32mif\u001b[0m \u001b[0mioargs\u001b[0m\u001b[1;33m.\u001b[0m\u001b[0mencoding\u001b[0m \u001b[1;32mand\u001b[0m \u001b[1;34m\"b\"\u001b[0m \u001b[1;32mnot\u001b[0m \u001b[1;32min\u001b[0m \u001b[0mioargs\u001b[0m\u001b[1;33m.\u001b[0m\u001b[0mmode\u001b[0m\u001b[1;33m:\u001b[0m\u001b[1;33m\u001b[0m\u001b[1;33m\u001b[0m\u001b[0m\n\u001b[0;32m    785\u001b[0m             \u001b[1;31m# Encoding\u001b[0m\u001b[1;33m\u001b[0m\u001b[1;33m\u001b[0m\u001b[0m\n\u001b[1;32m--> 786\u001b[1;33m             handle = open(\n\u001b[0m\u001b[0;32m    787\u001b[0m                 \u001b[0mhandle\u001b[0m\u001b[1;33m,\u001b[0m\u001b[1;33m\u001b[0m\u001b[1;33m\u001b[0m\u001b[0m\n\u001b[0;32m    788\u001b[0m                 \u001b[0mioargs\u001b[0m\u001b[1;33m.\u001b[0m\u001b[0mmode\u001b[0m\u001b[1;33m,\u001b[0m\u001b[1;33m\u001b[0m\u001b[1;33m\u001b[0m\u001b[0m\n",
      "\u001b[1;31mFileNotFoundError\u001b[0m: [Errno 2] No such file or directory: '/content/kidney_disease.csv'"
     ]
    }
   ],
   "source": [
    "# reading dataset\n",
    "chronic_df = pd.read_csv('/content/kidney_disease.csv')\n",
    "chronic_df.head()"
   ]
  },
  {
   "cell_type": "markdown",
   "metadata": {
    "id": "NXG51CuutWZc"
   },
   "source": [
    "## **`Dataset Description`**\n",
    "- age\t\t-\tage\t\n",
    "- bp\t\t-\tblood pressure\n",
    "- sg\t\t-\tspecific gravity\n",
    "- al\t\t-   \talbumin\n",
    "- su\t\t-\tsugar\n",
    "- rbc\t\t-\tred blood cells\n",
    "- pc\t\t-\tpus cell\n",
    "- pcc\t\t-\tpus cell clumps\n",
    "- ba\t\t-\tbacteria\n",
    "- \tbgr\t\t-\tblood glucose random\n",
    "-\t\t\tbu\t\t-\tblood urea\n",
    "-\t\t\tsc\t\t-\tserum creatinine\n",
    "-\t\t\tsod\t\t-\tsodium\n",
    "-\t\t\tpot\t\t-\tpotassium\n",
    "-\t\t\themo\t\t-\themoglobin\n",
    "-\t\t\tpcv\t\t-\tpacked cell volume\n",
    "-\t\t\twc\t\t-\twhite blood cell count\n",
    "-\t\t\trc\t\t-\tred blood cell count\n",
    "-\t\t\thtn\t\t-\thypertension\n",
    "-\t\t\tdm\t\t-\tdiabetes mellitus\n",
    "-\t\t\tcad\t\t-\tcoronary artery disease\n",
    "-\t\t\tappet\t\t-\tappetite\n",
    "-\t\t\tpe\t\t-\tpedal edema\n",
    "-\t\t\tane\t\t-\tanemia\n",
    "-\t\t\tclass\t\t-\tclass\t\n",
    "- ##################################################\n",
    "%\n",
    "- Number of Attributes: 24 + class = 25 ( 11  numeric ,14  nominal) \n",
    "%\n",
    "<h3>Attribute Information :</h3>\n",
    "- 1.Age(numerical)\n",
    "  \t  \tage in years\n",
    "- \t2.Blood Pressure(numerical)\n",
    "\t       \tbp in mm/Hg\n",
    "-\t3.Specific Gravity(nominal)\n",
    "\t  \tsg - (1.005,1.010,1.015,1.020,1.025)\n",
    "- \t4.Albumin(nominal)\n",
    "\t\t  al - (0,1,2,3,4,5)\n",
    "-\t5.Sugar(nominal)\n",
    "\t\t  su - (0,1,2,3,4,5)\n",
    "- \t6.Red Blood Cells(nominal)\n",
    "\t\t  rbc - (normal,abnormal)\n",
    "- \t7.Pus Cell (nominal)\n",
    "\t\t  pc - (normal,abnormal)\n",
    "- \t8.Pus Cell clumps(nominal)\n",
    "\t\t  pcc - (present,notpresent)\n",
    "- \t9.Bacteria(nominal)\n",
    "\t\t  ba  - (present,notpresent)\n",
    "- \t10.Blood Glucose Random(numerical)\t\t\n",
    "\t\t  bgr in mgs/dl\n",
    "- \t11.Blood Urea(numerical)\t\n",
    "\t\t  bu in mgs/dl\n",
    "- \t12.Serum Creatinine(numerical)\t\n",
    "\t\t  sc in mgs/dl\n",
    "- \t13.Sodium(numerical)\n",
    "\t\t  sod in mEq/L\n",
    "- \t14.Potassium(numerical)\t\n",
    "\t\t  pot in mEq/L\n",
    "- \t15.Hemoglobin(numerical)\n",
    "\t\t  hemo in gms\n",
    "- \t16.Packed  Cell Volume(numerical)\n",
    "- \t17.White Blood Cell Count(numerical)\n",
    "\t\t  wc in cells/cumm\n",
    "- \t18.Red Blood Cell Count(numerical)\t\n",
    "\t\t  rc in millions/cmm\n",
    "- \t19.Hypertension(nominal)\t\n",
    "\t\t  htn - (yes,no)\n",
    "- \t20.Diabetes Mellitus(nominal)\t\n",
    "\t\t  dm - (yes,no)\n",
    "- \t21.Coronary Artery Disease(nominal)\n",
    "\t\t  cad - (yes,no)\n",
    "- \t22.Appetite(nominal)\t\n",
    "\t    appet - (good,poor)\n",
    "- \t23.Pedal Edema(nominal)\n",
    "\t\t  pe - (yes,no)\t\n",
    "- \t24.Anemia(nominal)\n",
    "\t\t  ane - (yes,no)\n",
    "- \t25.Class (nominal)\t\t\n",
    "\t\t  class - (ckd,notckd)"
   ]
  },
  {
   "cell_type": "code",
   "execution_count": null,
   "metadata": {
    "colab": {
     "base_uri": "https://localhost:8080/"
    },
    "id": "MEvQhjvcuJVG",
    "outputId": "fb0da8ca-c64a-431b-d1e8-4ebd99798858"
   },
   "outputs": [],
   "source": [
    "# checking info of columns and null values\n",
    "\n",
    "\n"
   ]
  },
  {
   "cell_type": "markdown",
   "metadata": {
    "id": "I-CZTlLyZu9A"
   },
   "source": [
    "## **`Data Cleaning`**"
   ]
  },
  {
   "cell_type": "code",
   "execution_count": null,
   "metadata": {
    "id": "p_NXIjgcwX9u"
   },
   "outputs": [],
   "source": [
    "# drop id column\n",
    "chronic_df = \n",
    "\n"
   ]
  },
  {
   "cell_type": "code",
   "execution_count": null,
   "metadata": {
    "id": "tvX2BcF8fAbZ"
   },
   "outputs": [],
   "source": [
    "# rename column names to make it more user-friendly\n",
    "\n",
    "chronic_df.columns = ['age', 'blood_pressure', 'specific_gravity', 'albumin', 'sugar', 'red_blood_cells', 'pus_cell',\n",
    "              'pus_cell_clumps', 'bacteria', 'blood_glucose_random', 'blood_urea', 'serum_creatinine', 'sodium',\n",
    "              'potassium', 'haemoglobin', 'packed_cell_volume', 'white_blood_cell_count', 'red_blood_cell_count',\n",
    "              'hypertension', 'diabetes_mellitus', 'coronary_artery_disease', 'appetite', 'peda_edema',\n",
    "              'aanemia', 'class']"
   ]
  },
  {
   "cell_type": "code",
   "execution_count": null,
   "metadata": {
    "colab": {
     "base_uri": "https://localhost:8080/",
     "height": 299
    },
    "id": "yjMhni_PfJ1-",
    "outputId": "295f5009-dcb5-4a7a-9dbc-4b0ad3fb78bc"
   },
   "outputs": [],
   "source": [
    "chronic_df.head()"
   ]
  },
  {
   "cell_type": "markdown",
   "metadata": {
    "id": "J1Ki5Y5oUuwC"
   },
   "source": [
    "### According to the data description\n",
    "- Cols(pcv, wc and rc) needs to convert back in numerical since it is object right now\n",
    "- Cols(sg, al and su) should be nominal , convert from float to object"
   ]
  },
  {
   "cell_type": "code",
   "execution_count": null,
   "metadata": {
    "id": "dt6N2cyfygBP"
   },
   "outputs": [],
   "source": [
    "# Categorical cols like specific_gravity, albumin and sugar which is float type right now\n",
    "# converting back to nominal data type categorical\n",
    "\n",
    "\n"
   ]
  },
  {
   "cell_type": "code",
   "execution_count": null,
   "metadata": {
    "id": "mnWy9ZfC1BLo"
   },
   "outputs": [],
   "source": [
    "# converting necessary columns like packed_cell_volume, white-blood_cell_count and red_blood_cell_count\n",
    "# currently it is in object type and converting back to numerical type\n",
    "\n",
    "\n"
   ]
  },
  {
   "cell_type": "code",
   "execution_count": null,
   "metadata": {
    "id": "o0YFzgHIj1sd"
   },
   "outputs": [],
   "source": [
    "# Extracting categorical and numerical columns\n",
    "\n",
    "cat_cols = \n",
    "num_cols = \n"
   ]
  },
  {
   "cell_type": "code",
   "execution_count": null,
   "metadata": {
    "colab": {
     "base_uri": "https://localhost:8080/"
    },
    "id": "y_1ShLVGlJjn",
    "outputId": "8a8c9a5e-5f96-4335-9c4c-27920b31f06e"
   },
   "outputs": [],
   "source": [
    "# by looping & looking at unique values in categorical columns\n",
    "\n",
    "\n",
    "\n"
   ]
  },
  {
   "cell_type": "code",
   "execution_count": null,
   "metadata": {
    "id": "n483Q9Drld9V"
   },
   "outputs": [],
   "source": [
    "# replace incorrect values like '\\tno', '\\tyes', ' yes', '\\tno', 'ckd\\t', 'notckd'  in categorical cols\n",
    "\n",
    "\n",
    "\n"
   ]
  },
  {
   "cell_type": "code",
   "execution_count": null,
   "metadata": {
    "id": "ZtHkmq_jl1bu"
   },
   "outputs": [],
   "source": [
    "# Converting target col class into 0(chronic kidney) and 1(not a chronic kidney)\n",
    "\n",
    "\n",
    "\n",
    "\n",
    "# coverting target col into numeric to check correlation\n",
    "\n",
    "\n"
   ]
  },
  {
   "cell_type": "code",
   "execution_count": null,
   "metadata": {
    "colab": {
     "base_uri": "https://localhost:8080/"
    },
    "id": "u2p0knBUN5pu",
    "outputId": "d0d7ed82-13aa-4274-8d7c-64da3d8723c8"
   },
   "outputs": [],
   "source": [
    "# let's see the cols in numerical col list\n",
    "\n"
   ]
  },
  {
   "cell_type": "markdown",
   "metadata": {
    "id": "NwGsdCvRaNg_"
   },
   "source": [
    "## **`EDA`**"
   ]
  },
  {
   "cell_type": "code",
   "execution_count": null,
   "metadata": {
    "colab": {
     "base_uri": "https://localhost:8080/",
     "height": 1000
    },
    "id": "dkhRR-PRrfI1",
    "outputId": "a037e911-c090-49fd-dab2-1881763cba65"
   },
   "outputs": [],
   "source": [
    "# checking numerical features distribution\n",
    "\n",
    "\n",
    "plt.figure(figsize=(20,12))\n",
    "\n",
    "# looping over num cols and checking its distribution\n",
    "\n",
    "\n",
    "\n"
   ]
  },
  {
   "cell_type": "code",
   "execution_count": null,
   "metadata": {
    "colab": {
     "base_uri": "https://localhost:8080/"
    },
    "id": "Sy24epBysynk",
    "outputId": "b939b3cc-d0c8-4aca-caac-8fe39ff5e1ab"
   },
   "outputs": [],
   "source": [
    "# let's see the cols in cat col list\n",
    "\n",
    "\n"
   ]
  },
  {
   "cell_type": "code",
   "execution_count": null,
   "metadata": {
    "colab": {
     "base_uri": "https://localhost:8080/",
     "height": 566
    },
    "id": "D9hE8grgp7a4",
    "outputId": "e93c8110-20f9-4892-be47-36f6e25d5ee7"
   },
   "outputs": [],
   "source": [
    "# checking cat features distribution\n",
    "\n",
    "# create the figure and axes\n",
    "\n",
    "fig, axes = plt.subplots(3, 5, figsize=(16,8))\n",
    "\n",
    "\n",
    "axes = axes.ravel()  # flattening the array makes indexing easier\n",
    "\n",
    "# loop over cat cols and plot countplot\n",
    "\n",
    "\n",
    "\n",
    "\n",
    "\n",
    "\n"
   ]
  },
  {
   "cell_type": "code",
   "execution_count": null,
   "metadata": {
    "colab": {
     "base_uri": "https://localhost:8080/",
     "height": 592
    },
    "id": "d3G8ekdXuTEe",
    "outputId": "1562938e-2c07-4856-a243-a8a8f4392cb9"
   },
   "outputs": [],
   "source": [
    "# correlated heatmap of data\n",
    "\n",
    "plt.figure(figsize = (15, 8))\n",
    "\n",
    "\n",
    "\n",
    "\n",
    "\n"
   ]
  },
  {
   "cell_type": "code",
   "execution_count": null,
   "metadata": {
    "colab": {
     "base_uri": "https://localhost:8080/"
    },
    "id": "NbxUMM1fGKCm",
    "outputId": "4bbd13bc-cea7-4df0-f5ba-93baaab4b8b7"
   },
   "outputs": [],
   "source": [
    "# let's check count of null values in whole df\n",
    "\n",
    "\n",
    "\n"
   ]
  },
  {
   "cell_type": "code",
   "execution_count": null,
   "metadata": {
    "colab": {
     "base_uri": "https://localhost:8080/"
    },
    "id": "ufP3qSQ4GKE-",
    "outputId": "ad3868d0-4f3a-425a-8e1c-3c7613039b9b"
   },
   "outputs": [],
   "source": [
    "# let's check count of null values in num_cols\n",
    "\n",
    "\n"
   ]
  },
  {
   "cell_type": "code",
   "execution_count": null,
   "metadata": {
    "colab": {
     "base_uri": "https://localhost:8080/"
    },
    "id": "u3AGTIrbGKHr",
    "outputId": "34804d2a-c833-4efd-850c-39541460fd68"
   },
   "outputs": [],
   "source": [
    "# let's check count of null values in cat cols\n",
    "\n",
    "\n",
    "\n"
   ]
  },
  {
   "cell_type": "markdown",
   "metadata": {
    "id": "DCFx44Z4aUKm"
   },
   "source": [
    "## **`Missing Value Treatment`**"
   ]
  },
  {
   "cell_type": "code",
   "execution_count": null,
   "metadata": {
    "id": "buEJMY-zI3Gd"
   },
   "outputs": [],
   "source": [
    "# filling null values, we will use two methods, random sampling for higher null values and \n",
    "# mean/mode sampling for lower null values\n",
    "\n",
    "# creating func for imputing random values\n",
    "def random_value_imputation(feature):\n",
    "    random_sample = \n",
    "    random_sample.index = \n",
    "    chronic_df.loc[chronic_df[feature].isnull(), feature] = \n",
    "    \n",
    "# creating func for imputing most common value(modal value)\n",
    "def impute_mode(feature):\n",
    "    mode = \n",
    "    chronic_df[feature] = "
   ]
  },
  {
   "cell_type": "code",
   "execution_count": null,
   "metadata": {
    "id": "Z5kqNycFHZtA"
   },
   "outputs": [],
   "source": [
    "# filling num_cols null values using random sampling method\n",
    "\n",
    "\n",
    "\n"
   ]
  },
  {
   "cell_type": "code",
   "execution_count": null,
   "metadata": {
    "colab": {
     "base_uri": "https://localhost:8080/"
    },
    "id": "Z04iW9wbOdnP",
    "outputId": "004c95f2-b548-426b-d0bb-e323050e5737"
   },
   "outputs": [],
   "source": [
    "# let's check count of null values in num_cols again\n",
    "\n",
    "\n",
    "\n"
   ]
  },
  {
   "cell_type": "code",
   "execution_count": null,
   "metadata": {
    "id": "tUcLLYzHO84w"
   },
   "outputs": [],
   "source": [
    "# filling \"red_blood_cells\" and \"pus_cell\" using random sampling method and rest of cat_cols using mode imputation\n",
    "\n",
    "\n",
    "\n",
    "\n",
    "\n",
    "\n"
   ]
  },
  {
   "cell_type": "code",
   "execution_count": null,
   "metadata": {
    "colab": {
     "base_uri": "https://localhost:8080/"
    },
    "id": "d8yhGGtwPCQg",
    "outputId": "a16c02e9-1e17-43bf-e52b-51d2d2492079"
   },
   "outputs": [],
   "source": [
    "# let's check count of null values in cat_cols again\n",
    "\n"
   ]
  },
  {
   "cell_type": "code",
   "execution_count": null,
   "metadata": {
    "colab": {
     "base_uri": "https://localhost:8080/"
    },
    "id": "D5cabWuhPQgL",
    "outputId": "5fe9bba2-2d30-4189-972c-9725498df476"
   },
   "outputs": [],
   "source": [
    "# check unique values in each cat col by looping over cat cols\n",
    "\n",
    "\n",
    "\n",
    "\n",
    "\n"
   ]
  },
  {
   "cell_type": "code",
   "execution_count": null,
   "metadata": {
    "id": "5JFcdCK_O0F9"
   },
   "outputs": [],
   "source": [
    "# using labelencoder and applying on cat cols\n",
    "from sklearn.preprocessing import LabelEncoder\n",
    "\n",
    "le = \n",
    "\n",
    "for col in cat_cols[3:]:\n",
    "    chronic_df[col] ="
   ]
  },
  {
   "cell_type": "code",
   "execution_count": null,
   "metadata": {
    "colab": {
     "base_uri": "https://localhost:8080/",
     "height": 299
    },
    "id": "geuRlFO8QGhw",
    "outputId": "4a6e08ed-b3fb-4a6b-faa7-d980ed239b8b"
   },
   "outputs": [],
   "source": [
    "# check chronic df after transforming cat cols\n",
    "\n",
    "\n",
    "\n"
   ]
  },
  {
   "cell_type": "code",
   "execution_count": null,
   "metadata": {
    "id": "YnDl9QJT12I_"
   },
   "outputs": [],
   "source": [
    "# Split data into features and target variables (X and y)\n",
    "X = \n",
    "y = \n",
    "\n",
    "\n"
   ]
  },
  {
   "cell_type": "code",
   "execution_count": null,
   "metadata": {
    "id": "08XQNI2QaKul"
   },
   "outputs": [],
   "source": [
    "# splitting data intp training and test set, so import train_test_split\n",
    "\n",
    "from sklearn.model_selection import train_test_split\n",
    "\n",
    "X_train, X_test, y_train, y_test = \n",
    "\n",
    "\n",
    "\n"
   ]
  },
  {
   "cell_type": "markdown",
   "metadata": {
    "id": "bE2YlHFcaiJF"
   },
   "source": [
    "## **`Model Building`**"
   ]
  },
  {
   "cell_type": "code",
   "execution_count": null,
   "metadata": {
    "colab": {
     "base_uri": "https://localhost:8080/"
    },
    "id": "nioveCSWaa3g",
    "outputId": "8ecf36f0-4ba6-45dd-8d09-aeda89884c56"
   },
   "outputs": [],
   "source": [
    "# import KNeighborsClassifier, accuracy_score, confusion_matrix, classification_report\n",
    "from sklearn.neighbors import KNeighborsClassifier\n",
    "from sklearn.metrics import accuracy_score, confusion_matrix, classification_report\n",
    "\n",
    "knn = \n",
    "\n",
    "\n",
    "\n",
    "\n",
    "\n",
    "# accuracy score, confusion matrix and classification report of knn\n",
    "\n",
    "knn_acc = \n",
    "\n",
    "\n",
    "\n",
    "\n",
    "\n",
    "\n",
    "\n"
   ]
  },
  {
   "cell_type": "code",
   "execution_count": null,
   "metadata": {
    "colab": {
     "base_uri": "https://localhost:8080/"
    },
    "id": "a1JZEu8Ia0Bx",
    "outputId": "02554980-f79a-4e9b-929a-efb2033942b1"
   },
   "outputs": [],
   "source": [
    "# import DecisionTreeClassifer\n",
    "from sklearn.tree import DecisionTreeClassifier\n",
    "\n",
    "dtc = \n",
    "\n",
    "\n",
    "\n",
    "\n",
    "# accuracy score, confusion matrix and classification report of decision tree\n",
    "\n",
    "dtc_acc = \n",
    "\n",
    "\n",
    "\n",
    "\n"
   ]
  },
  {
   "cell_type": "code",
   "execution_count": null,
   "metadata": {
    "colab": {
     "base_uri": "https://localhost:8080/"
    },
    "id": "-PgtfvfabCls",
    "outputId": "02a3e30c-ab48-427b-d052-9a5d0b307657"
   },
   "outputs": [],
   "source": [
    "# hyper parameter tuning of decision tree , import GridSearchCV\n",
    "\n",
    "from sklearn.model_selection import GridSearchCV\n",
    "\n",
    "\"\"\"\n",
    "Use this param\n",
    " {\n",
    "    'criterion' : ['gini', 'entropy'],\n",
    "    'max_depth' : [3, 5, 7, 10],\n",
    "    'splitter' : ['best', 'random'],\n",
    "    'min_samples_leaf' : [1, 2, 3, 5, 7],\n",
    "    'min_samples_split' : [1, 2, 3, 5, 7],\n",
    "    'max_features' : ['auto', 'sqrt', 'log2']\n",
    "}\n",
    "\n",
    "\"\"\"\n",
    "\n",
    "grid_param =\n",
    "\n",
    "\n",
    "# Apply gridsearchcv with cv = 5, n_jobs = -1, verbose = 1\n",
    "grid_search_dtc = \n"
   ]
  },
  {
   "cell_type": "code",
   "execution_count": null,
   "metadata": {
    "colab": {
     "base_uri": "https://localhost:8080/"
    },
    "id": "0BMgFN20bEjo",
    "outputId": "ffd07414-571c-4326-f98f-1236672b48b8"
   },
   "outputs": [],
   "source": [
    "# print best parameters and best score in grid search dtc\n",
    "\n",
    "\n",
    "\n"
   ]
  },
  {
   "cell_type": "code",
   "execution_count": null,
   "metadata": {
    "colab": {
     "base_uri": "https://localhost:8080/"
    },
    "id": "HrRF1_U3bkjx",
    "outputId": "1c47f8df-9e61-4fe2-88b5-af1be1dcbf1b"
   },
   "outputs": [],
   "source": [
    "# storing best estimator\n",
    "\n",
    "dtc = \n",
    "\n",
    "# accuracy score, confusion matrix and classification report of decision tree\n",
    "\n",
    "dtc_acc = \n",
    "\n",
    "\n",
    "\n",
    "\n",
    "\n",
    "\n"
   ]
  },
  {
   "cell_type": "code",
   "execution_count": null,
   "metadata": {
    "colab": {
     "base_uri": "https://localhost:8080/"
    },
    "id": "mBNtVkhmbt9V",
    "outputId": "c9f53783-0ff9-47d2-d8c7-f562aa8395c5"
   },
   "outputs": [],
   "source": [
    "# import RandomForestClassifier\n",
    "\n",
    "from sklearn.ensemble import RandomForestClassifier\n",
    "\n",
    "rd_clf = \n",
    "\n",
    "\n",
    "\n",
    "# accuracy score, confusion matrix and classification report of random forest\n",
    "\n",
    "rd_clf_acc = \n",
    "\n",
    "\n",
    "\n",
    "\n"
   ]
  },
  {
   "cell_type": "code",
   "execution_count": null,
   "metadata": {
    "colab": {
     "base_uri": "https://localhost:8080/"
    },
    "id": "LJv9sgk5fWZZ",
    "outputId": "d74e60b1-f0db-4b49-e91d-bb14da7f5b0a"
   },
   "outputs": [],
   "source": [
    "# import AdaBoostClassifier\n",
    "from sklearn.ensemble import AdaBoostClassifier\n",
    "\n",
    "ada = \n",
    "\n",
    "\n",
    "# accuracy score, confusion matrix and classification report of ada boost\n",
    "\n",
    "ada_acc = \n",
    "\n",
    "\n",
    "\n",
    "\n",
    "\n",
    "\n",
    "\n"
   ]
  },
  {
   "cell_type": "code",
   "execution_count": null,
   "metadata": {
    "colab": {
     "base_uri": "https://localhost:8080/"
    },
    "id": "Bj8a3Atvfb9k",
    "outputId": "a6b90f58-e054-4da1-85bc-aef983aa94d5"
   },
   "outputs": [],
   "source": [
    "# import GradientBoostingClassifier\n",
    "from sklearn.ensemble import GradientBoostingClassifier\n",
    "\n",
    "gb = \n",
    "\n",
    "\n",
    "# accuracy score, confusion matrix and classification report of gradient boosting classifier\n",
    "\n",
    "gb_acc = \n",
    "\n",
    "\n",
    "\n",
    "\n",
    "\n"
   ]
  },
  {
   "cell_type": "code",
   "execution_count": null,
   "metadata": {
    "colab": {
     "base_uri": "https://localhost:8080/"
    },
    "id": "XQjU5X-zfhFC",
    "outputId": "17db9187-8ccb-4a7b-bf8d-b3d1339613f5"
   },
   "outputs": [],
   "source": [
    "# using max_depth = 4, subsample = 0.90, max_features = 0.75, n_estimators = 200\n",
    "sgb = \n",
    "\n",
    "\n",
    "\n",
    "\n",
    "# accuracy score, confusion matrix and classification report of stochastic gradient boosting classifier\n",
    "\n",
    "sgb_acc = \n",
    "\n",
    "\n",
    "\n",
    "\n",
    "\n",
    "\n"
   ]
  },
  {
   "cell_type": "code",
   "execution_count": null,
   "metadata": {
    "colab": {
     "base_uri": "https://localhost:8080/"
    },
    "id": "KO7z2GwQfm-k",
    "outputId": "f3f08cf5-8197-493a-cc5f-b14d245eb93f"
   },
   "outputs": [],
   "source": [
    "# import XGBClassifier\n",
    "from xgboost import XGBClassifier\n",
    "\n",
    "xgb = \n",
    "\n",
    "\n",
    "# accuracy score, confusion matrix and classification report of xgboost\n",
    "\n",
    "xgb_acc = \n",
    "\n",
    "\n",
    "\n",
    "\n",
    "\n",
    "\n",
    "\n",
    "\n"
   ]
  },
  {
   "cell_type": "code",
   "execution_count": null,
   "metadata": {
    "colab": {
     "base_uri": "https://localhost:8080/"
    },
    "id": "clmWYLjlf6aL",
    "outputId": "7c242642-4a1e-406f-a764-679ef8989237"
   },
   "outputs": [],
   "source": [
    "# pip install catboost"
   ]
  },
  {
   "cell_type": "code",
   "execution_count": null,
   "metadata": {
    "colab": {
     "base_uri": "https://localhost:8080/"
    },
    "id": "ZJRNARFNfy8j",
    "outputId": "bcb58570-8ef5-4557-98b1-1b3ef568bdce"
   },
   "outputs": [],
   "source": [
    "# import CatBoostClassifier\n",
    "from catboost import CatBoostClassifier\n",
    "\n",
    "cat = \n",
    "\n",
    "\n",
    "# accuracy score, confusion matrix and classification report of cat boost\n",
    "\n",
    "cat_acc = \n",
    "\n",
    "\n",
    "\n",
    "\n",
    "\n",
    "\n"
   ]
  },
  {
   "cell_type": "code",
   "execution_count": null,
   "metadata": {
    "colab": {
     "base_uri": "https://localhost:8080/"
    },
    "id": "0QBEvlIzgHlp",
    "outputId": "ae672055-b957-42fd-8094-8a203732deed"
   },
   "outputs": [],
   "source": [
    "# import ExtraTreesClassifier\n",
    "\n",
    "from sklearn.ensemble import ExtraTreesClassifier\n",
    "\n",
    "etc = \n",
    "\n",
    "\n",
    "\n",
    "\n",
    "# accuracy score, confusion matrix and classification report of extra trees classifier\n",
    "\n",
    "etc_acc = \n",
    "\n",
    "\n",
    "\n",
    "\n",
    "\n",
    "\n",
    "\n"
   ]
  },
  {
   "cell_type": "code",
   "execution_count": null,
   "metadata": {
    "colab": {
     "base_uri": "https://localhost:8080/"
    },
    "id": "UmjtTA_-gNSp",
    "outputId": "3b9fc0e9-29c6-499e-ed61-dca475a2cbd7"
   },
   "outputs": [],
   "source": [
    "# import LGBMClassifier\n",
    "from lightgbm import LGBMClassifier\n",
    "\n",
    "lgbm = \n",
    "\n",
    "\n",
    "\n",
    "\n",
    "# accuracy score, confusion matrix and classification report of lgbm classifier\n",
    "\n",
    "lgbm_acc = \n",
    "\n",
    "\n",
    "\n",
    "\n"
   ]
  },
  {
   "cell_type": "code",
   "execution_count": null,
   "metadata": {
    "colab": {
     "base_uri": "https://localhost:8080/",
     "height": 332
    },
    "id": "4wNh2OlrgS4d",
    "outputId": "54780507-7574-4c95-f48a-fccf38d909c7"
   },
   "outputs": [],
   "source": [
    "# comparing all models accuracy by creating a df\n",
    "models = \n",
    "\n",
    "\n",
    "\n",
    "\n",
    "\n",
    "\n",
    "\n",
    "\n"
   ]
  },
  {
   "cell_type": "code",
   "execution_count": null,
   "metadata": {
    "id": "XFtk3W4ERU6b"
   },
   "outputs": [],
   "source": []
  }
 ],
 "metadata": {
  "colab": {
   "provenance": []
  },
  "kernelspec": {
   "display_name": "Python 3 (ipykernel)",
   "language": "python",
   "name": "python3"
  },
  "language_info": {
   "codemirror_mode": {
    "name": "ipython",
    "version": 3
   },
   "file_extension": ".py",
   "mimetype": "text/x-python",
   "name": "python",
   "nbconvert_exporter": "python",
   "pygments_lexer": "ipython3",
   "version": "3.9.13"
  }
 },
 "nbformat": 4,
 "nbformat_minor": 1
}
