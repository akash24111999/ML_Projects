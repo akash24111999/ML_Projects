{
 "cells": [
  {
   "cell_type": "code",
   "execution_count": 3,
   "id": "03dde4a5",
   "metadata": {},
   "outputs": [],
   "source": [
    "import numpy as np\n",
    "import pandas as pd\n",
    "import matplotlib.pyplot as plt\n",
    "import seaborn as sns\n",
    "\n",
    "from sklearn.preprocessing import StandardScaler\n",
    "\n",
    "from sklearn.model_selection import train_test_split\n",
    "from sklearn.model_selection import GridSearchCV\n",
    "\n",
    "from sklearn.ensemble import RandomForestRegressor\n",
    "\n",
    "from sklearn.metrics import mean_squared_error, mean_absolute_error, r2_score\n",
    "\n",
    "import warnings\n",
    "warnings.filterwarnings('ignore')\n",
    "\n",
    "%matplotlib inline"
   ]
  },
  {
   "cell_type": "code",
   "execution_count": 4,
   "id": "afa1b549",
   "metadata": {},
   "outputs": [],
   "source": [
    "data_path = r\"C:\\Users\\USER-PC\\Desktop\\Akash Cloudy ML\\3. ML Projects\\4. Seoul Bike Trip Duraion Prediction\\cleaned_seoul_bike_data.csv\""
   ]
  },
  {
   "cell_type": "code",
   "execution_count": 6,
   "id": "e0b8afab",
   "metadata": {},
   "outputs": [
    {
     "data": {
      "text/html": [
       "<div>\n",
       "<style scoped>\n",
       "    .dataframe tbody tr th:only-of-type {\n",
       "        vertical-align: middle;\n",
       "    }\n",
       "\n",
       "    .dataframe tbody tr th {\n",
       "        vertical-align: top;\n",
       "    }\n",
       "\n",
       "    .dataframe thead th {\n",
       "        text-align: right;\n",
       "    }\n",
       "</style>\n",
       "<table border=\"1\" class=\"dataframe\">\n",
       "  <thead>\n",
       "    <tr style=\"text-align: right;\">\n",
       "      <th></th>\n",
       "      <th>Duration</th>\n",
       "      <th>Distance</th>\n",
       "      <th>PLong</th>\n",
       "      <th>PLatd</th>\n",
       "      <th>DLong</th>\n",
       "      <th>DLatd</th>\n",
       "      <th>Haversine</th>\n",
       "      <th>Pmonth</th>\n",
       "      <th>Pday</th>\n",
       "      <th>Phour</th>\n",
       "      <th>...</th>\n",
       "      <th>Dmin</th>\n",
       "      <th>DDweek</th>\n",
       "      <th>Temp</th>\n",
       "      <th>Precip</th>\n",
       "      <th>Wind</th>\n",
       "      <th>Humid</th>\n",
       "      <th>Solar</th>\n",
       "      <th>Snow</th>\n",
       "      <th>GroundTemp</th>\n",
       "      <th>Dust</th>\n",
       "    </tr>\n",
       "  </thead>\n",
       "  <tbody>\n",
       "    <tr>\n",
       "      <th>0</th>\n",
       "      <td>36</td>\n",
       "      <td>96</td>\n",
       "      <td>37.676941</td>\n",
       "      <td>127.055099</td>\n",
       "      <td>37.637150</td>\n",
       "      <td>127.063271</td>\n",
       "      <td>4.482665</td>\n",
       "      <td>5</td>\n",
       "      <td>26</td>\n",
       "      <td>19</td>\n",
       "      <td>...</td>\n",
       "      <td>10</td>\n",
       "      <td>5</td>\n",
       "      <td>24.900000</td>\n",
       "      <td>0.0</td>\n",
       "      <td>3.1</td>\n",
       "      <td>46.0</td>\n",
       "      <td>0.43</td>\n",
       "      <td>0.0</td>\n",
       "      <td>24.299999</td>\n",
       "      <td>79.0</td>\n",
       "    </tr>\n",
       "    <tr>\n",
       "      <th>1</th>\n",
       "      <td>15</td>\n",
       "      <td>52</td>\n",
       "      <td>37.528919</td>\n",
       "      <td>126.848083</td>\n",
       "      <td>37.518970</td>\n",
       "      <td>126.869965</td>\n",
       "      <td>2.224359</td>\n",
       "      <td>7</td>\n",
       "      <td>30</td>\n",
       "      <td>2</td>\n",
       "      <td>...</td>\n",
       "      <td>25</td>\n",
       "      <td>0</td>\n",
       "      <td>28.000000</td>\n",
       "      <td>0.0</td>\n",
       "      <td>1.2</td>\n",
       "      <td>57.0</td>\n",
       "      <td>0.00</td>\n",
       "      <td>0.0</td>\n",
       "      <td>25.500000</td>\n",
       "      <td>7.0</td>\n",
       "    </tr>\n",
       "    <tr>\n",
       "      <th>2</th>\n",
       "      <td>3</td>\n",
       "      <td>108</td>\n",
       "      <td>37.564610</td>\n",
       "      <td>127.029198</td>\n",
       "      <td>37.566261</td>\n",
       "      <td>127.023697</td>\n",
       "      <td>0.518448</td>\n",
       "      <td>9</td>\n",
       "      <td>8</td>\n",
       "      <td>21</td>\n",
       "      <td>...</td>\n",
       "      <td>39</td>\n",
       "      <td>5</td>\n",
       "      <td>22.100000</td>\n",
       "      <td>0.0</td>\n",
       "      <td>1.7</td>\n",
       "      <td>49.0</td>\n",
       "      <td>0.00</td>\n",
       "      <td>0.0</td>\n",
       "      <td>20.400000</td>\n",
       "      <td>21.0</td>\n",
       "    </tr>\n",
       "    <tr>\n",
       "      <th>3</th>\n",
       "      <td>33</td>\n",
       "      <td>126</td>\n",
       "      <td>37.484940</td>\n",
       "      <td>126.901321</td>\n",
       "      <td>37.516651</td>\n",
       "      <td>126.907990</td>\n",
       "      <td>3.574849</td>\n",
       "      <td>5</td>\n",
       "      <td>20</td>\n",
       "      <td>19</td>\n",
       "      <td>...</td>\n",
       "      <td>51</td>\n",
       "      <td>6</td>\n",
       "      <td>20.799999</td>\n",
       "      <td>0.0</td>\n",
       "      <td>2.0</td>\n",
       "      <td>24.0</td>\n",
       "      <td>0.56</td>\n",
       "      <td>0.0</td>\n",
       "      <td>17.700001</td>\n",
       "      <td>31.0</td>\n",
       "    </tr>\n",
       "    <tr>\n",
       "      <th>4</th>\n",
       "      <td>25</td>\n",
       "      <td>116</td>\n",
       "      <td>37.613956</td>\n",
       "      <td>127.030251</td>\n",
       "      <td>37.641670</td>\n",
       "      <td>127.016884</td>\n",
       "      <td>3.298844</td>\n",
       "      <td>11</td>\n",
       "      <td>19</td>\n",
       "      <td>12</td>\n",
       "      <td>...</td>\n",
       "      <td>37</td>\n",
       "      <td>0</td>\n",
       "      <td>10.300000</td>\n",
       "      <td>0.0</td>\n",
       "      <td>1.2</td>\n",
       "      <td>38.0</td>\n",
       "      <td>1.08</td>\n",
       "      <td>0.0</td>\n",
       "      <td>14.500000</td>\n",
       "      <td>73.0</td>\n",
       "    </tr>\n",
       "  </tbody>\n",
       "</table>\n",
       "<p>5 rows × 25 columns</p>\n",
       "</div>"
      ],
      "text/plain": [
       "   Duration  Distance      PLong       PLatd      DLong       DLatd  \\\n",
       "0        36        96  37.676941  127.055099  37.637150  127.063271   \n",
       "1        15        52  37.528919  126.848083  37.518970  126.869965   \n",
       "2         3       108  37.564610  127.029198  37.566261  127.023697   \n",
       "3        33       126  37.484940  126.901321  37.516651  126.907990   \n",
       "4        25       116  37.613956  127.030251  37.641670  127.016884   \n",
       "\n",
       "   Haversine  Pmonth  Pday  Phour  ...  Dmin  DDweek       Temp  Precip  Wind  \\\n",
       "0   4.482665       5    26     19  ...    10       5  24.900000     0.0   3.1   \n",
       "1   2.224359       7    30      2  ...    25       0  28.000000     0.0   1.2   \n",
       "2   0.518448       9     8     21  ...    39       5  22.100000     0.0   1.7   \n",
       "3   3.574849       5    20     19  ...    51       6  20.799999     0.0   2.0   \n",
       "4   3.298844      11    19     12  ...    37       0  10.300000     0.0   1.2   \n",
       "\n",
       "   Humid  Solar  Snow  GroundTemp  Dust  \n",
       "0   46.0   0.43   0.0   24.299999  79.0  \n",
       "1   57.0   0.00   0.0   25.500000   7.0  \n",
       "2   49.0   0.00   0.0   20.400000  21.0  \n",
       "3   24.0   0.56   0.0   17.700001  31.0  \n",
       "4   38.0   1.08   0.0   14.500000  73.0  \n",
       "\n",
       "[5 rows x 25 columns]"
      ]
     },
     "execution_count": 6,
     "metadata": {},
     "output_type": "execute_result"
    }
   ],
   "source": [
    "df = pd.read_csv(\n",
    "        data_path,\n",
    "        dtype={\n",
    "            'Duration':'int8',\n",
    "            'Distance':'int8',\n",
    "            'PLong':'float32',\n",
    "            'PLatd':'float32',\n",
    "            'DLong':'float32',\n",
    "            'DLatd':'float32',\n",
    "            'Haversine':'float32',\n",
    "            'Pmonth':'int8',\n",
    "            'Pday':'int8',\n",
    "            'Phour':'int8',\n",
    "            'Pmin':'int8',\n",
    "            'PDweek':'int8',\n",
    "            'Dmonth':'int8',\n",
    "            'Dday':'int8',\n",
    "            'Dhour':'int8',\n",
    "            'Dmin':'int8',\n",
    "            'DDweek':'int8',\n",
    "            'Temp':'float32',\n",
    "            'Precip':'float32',\n",
    "            'Wind':'float32',\n",
    "            'Humid':'float32',\n",
    "            'Solar':'float32',\n",
    "            'Snow':'float32',\n",
    "            'GroundTemp':'float32',\n",
    "            'Dust':'float32'\n",
    "        },\n",
    ").sample(frac=0.06).reset_index(drop=True)\n",
    "df.head()"
   ]
  },
  {
   "cell_type": "code",
   "execution_count": 7,
   "id": "f7c44ce6",
   "metadata": {},
   "outputs": [
    {
     "data": {
      "text/plain": [
       "(515032, 25)"
      ]
     },
     "execution_count": 7,
     "metadata": {},
     "output_type": "execute_result"
    }
   ],
   "source": [
    "df.shape"
   ]
  },
  {
   "cell_type": "code",
   "execution_count": 8,
   "id": "25884fb7",
   "metadata": {},
   "outputs": [
    {
     "name": "stdout",
     "output_type": "stream",
     "text": [
      "<class 'pandas.core.frame.DataFrame'>\n",
      "RangeIndex: 515032 entries, 0 to 515031\n",
      "Data columns (total 25 columns):\n",
      " #   Column      Non-Null Count   Dtype  \n",
      "---  ------      --------------   -----  \n",
      " 0   Duration    515032 non-null  int8   \n",
      " 1   Distance    515032 non-null  int8   \n",
      " 2   PLong       515032 non-null  float32\n",
      " 3   PLatd       515032 non-null  float32\n",
      " 4   DLong       515032 non-null  float32\n",
      " 5   DLatd       515032 non-null  float32\n",
      " 6   Haversine   515032 non-null  float32\n",
      " 7   Pmonth      515032 non-null  int8   \n",
      " 8   Pday        515032 non-null  int8   \n",
      " 9   Phour       515032 non-null  int8   \n",
      " 10  Pmin        515032 non-null  int8   \n",
      " 11  PDweek      515032 non-null  int8   \n",
      " 12  Dmonth      515032 non-null  int8   \n",
      " 13  Dday        515032 non-null  int8   \n",
      " 14  Dhour       515032 non-null  int8   \n",
      " 15  Dmin        515032 non-null  int8   \n",
      " 16  DDweek      515032 non-null  int8   \n",
      " 17  Temp        515032 non-null  float32\n",
      " 18  Precip      515032 non-null  float32\n",
      " 19  Wind        515032 non-null  float32\n",
      " 20  Humid       515032 non-null  float32\n",
      " 21  Solar       515032 non-null  float32\n",
      " 22  Snow        515032 non-null  float32\n",
      " 23  GroundTemp  515032 non-null  float32\n",
      " 24  Dust        515032 non-null  float32\n",
      "dtypes: float32(13), int8(12)\n",
      "memory usage: 31.4 MB\n"
     ]
    }
   ],
   "source": [
    "df.info()"
   ]
  },
  {
   "cell_type": "code",
   "execution_count": 9,
   "id": "72080dfe",
   "metadata": {},
   "outputs": [],
   "source": [
    "x = df.iloc[:, 1:]\n",
    "y = df.iloc[:, 0]"
   ]
  },
  {
   "cell_type": "code",
   "execution_count": 10,
   "id": "33ca871c",
   "metadata": {},
   "outputs": [
    {
     "name": "stdout",
     "output_type": "stream",
     "text": [
      "   Distance      PLong       PLatd      DLong       DLatd  Haversine  Pmonth  \\\n",
      "0        96  37.676941  127.055099  37.637150  127.063271   4.482665       5   \n",
      "1        52  37.528919  126.848083  37.518970  126.869965   2.224359       7   \n",
      "2       108  37.564610  127.029198  37.566261  127.023697   0.518448       9   \n",
      "3       126  37.484940  126.901321  37.516651  126.907990   3.574849       5   \n",
      "4       116  37.613956  127.030251  37.641670  127.016884   3.298844      11   \n",
      "\n",
      "   Pday  Phour  Pmin  ...  Dmin  DDweek       Temp  Precip  Wind  Humid  \\\n",
      "0    26     19    33  ...    10       5  24.900000     0.0   3.1   46.0   \n",
      "1    30      2     9  ...    25       0  28.000000     0.0   1.2   57.0   \n",
      "2     8     21    35  ...    39       5  22.100000     0.0   1.7   49.0   \n",
      "3    20     19    15  ...    51       6  20.799999     0.0   2.0   24.0   \n",
      "4    19     12    11  ...    37       0  10.300000     0.0   1.2   38.0   \n",
      "\n",
      "   Solar  Snow  GroundTemp  Dust  \n",
      "0   0.43   0.0   24.299999  79.0  \n",
      "1   0.00   0.0   25.500000   7.0  \n",
      "2   0.00   0.0   20.400000  21.0  \n",
      "3   0.56   0.0   17.700001  31.0  \n",
      "4   1.08   0.0   14.500000  73.0  \n",
      "\n",
      "[5 rows x 24 columns]\n"
     ]
    }
   ],
   "source": [
    "print(x.head(5))"
   ]
  },
  {
   "cell_type": "code",
   "execution_count": 11,
   "id": "7135c7e3",
   "metadata": {},
   "outputs": [
    {
     "name": "stdout",
     "output_type": "stream",
     "text": [
      "0         36\n",
      "1         15\n",
      "2          3\n",
      "3         33\n",
      "4         25\n",
      "          ..\n",
      "515027    14\n",
      "515028    23\n",
      "515029    38\n",
      "515030     9\n",
      "515031    35\n",
      "Name: Duration, Length: 515032, dtype: int8\n"
     ]
    }
   ],
   "source": [
    "print(y)"
   ]
  },
  {
   "cell_type": "code",
   "execution_count": 13,
   "id": "2ad90a38",
   "metadata": {},
   "outputs": [
    {
     "name": "stdout",
     "output_type": "stream",
     "text": [
      "(463528, 24) (463528,)\n",
      "(51504, 24) (51504,)\n"
     ]
    }
   ],
   "source": [
    "xtrain,xtest,ytrain,ytest = train_test_split(x,y,test_size=0.1,random_state=1)\n",
    "print(xtrain.shape,ytrain.shape)\n",
    "print(xtest.shape,ytest.shape)"
   ]
  },
  {
   "cell_type": "code",
   "execution_count": 14,
   "id": "252fcdfa",
   "metadata": {},
   "outputs": [
    {
     "name": "stdout",
     "output_type": "stream",
     "text": [
      "Wall time: 252 ms\n"
     ]
    }
   ],
   "source": [
    "# Scaling:-\n",
    "%%time\n",
    "sc = StandardScaler()\n",
    "scaled_xtrain = sc.fit_transform(xtrain)\n",
    "scaled_xtest = sc.transform(xtest)"
   ]
  },
  {
   "cell_type": "code",
   "execution_count": 15,
   "id": "b45a3316",
   "metadata": {},
   "outputs": [],
   "source": [
    "def model_evaluation(model, xtrain, ytrain, xtest, ytest):\n",
    "    ytrain_pred = model.predict(xtrain)\n",
    "    ytest_pred = model.predict(xtest)\n",
    "\n",
    "    train_mae = mean_absolute_error(ytrain, ytrain_pred)\n",
    "    train_mse = mean_squared_error(ytrain, ytrain_pred)\n",
    "    train_rmse = np.sqrt(train_mse)\n",
    "    train_r2 = r2_score(ytrain, ytrain_pred)\n",
    "\n",
    "    test_mae = mean_absolute_error(ytest, ytest_pred)\n",
    "    test_mse = mean_squared_error(ytest, ytest_pred)\n",
    "    test_rmse = np.sqrt(test_mse)\n",
    "    test_r2 = r2_score(ytest, ytest_pred)\n",
    "\n",
    "    print(\"Training Scores:\")\n",
    "    print(f\"MAE: {train_mae}\\nMSE: {train_mse}\\nRMSE: {train_rmse}\\nR2: {train_r2}\\n\")\n",
    "\n",
    "    print(\"Testing Scores:\")\n",
    "    print(f\"MAE: {test_mae}\\nMSE: {test_mse}\\nRMSE: {test_rmse}\\nR2: {test_r2}\\n\")"
   ]
  },
  {
   "cell_type": "markdown",
   "id": "e01db115",
   "metadata": {},
   "source": [
    "## Random Forest Regressor"
   ]
  },
  {
   "cell_type": "code",
   "execution_count": 16,
   "id": "13131cfb",
   "metadata": {},
   "outputs": [
    {
     "name": "stdout",
     "output_type": "stream",
     "text": [
      "Training Scores:\n",
      "MAE: 1.3674451478659326\n",
      "MSE: 8.126317222718201\n",
      "RMSE: 2.850669609533557\n",
      "R2: 0.9843981907065941\n",
      "\n",
      "Testing Scores:\n",
      "MAE: 3.647654366188849\n",
      "MSE: 58.99283743900267\n",
      "RMSE: 7.680679490709313\n",
      "R2: 0.8876245809248846\n",
      "\n",
      "Wall time: 15min 34s\n"
     ]
    }
   ],
   "source": [
    "%%time\n",
    "rf_model = RandomForestRegressor()\n",
    "rf_model.fit(scaled_xtrain,ytrain)\n",
    "\n",
    "# Evaluate the Random Forest Regressor model\n",
    "model_evaluation(rf_model, scaled_xtrain, ytrain, scaled_xtest, ytest)"
   ]
  },
  {
   "cell_type": "code",
   "execution_count": 19,
   "id": "03525a8c",
   "metadata": {},
   "outputs": [
    {
     "data": {
      "text/plain": [
       "{'n_estimators': [10, 20, 30, 40],\n",
       " 'min_samples_split': [2, 3, 4, 5],\n",
       " 'min_samples_leaf': [2, 3, 4, 5]}"
      ]
     },
     "execution_count": 19,
     "metadata": {},
     "output_type": "execute_result"
    }
   ],
   "source": [
    "n_estimators = [10,20,30,40]\n",
    "min_samples_split = [2,3,4,5]\n",
    "min_samples_leaf = [2,3,4,5]\n",
    "random_grid = {'n_estimators':n_estimators,\n",
    "              'min_samples_split':min_samples_split,\n",
    "              'min_samples_leaf':min_samples_leaf}\n",
    "random_grid"
   ]
  },
  {
   "cell_type": "code",
   "execution_count": 20,
   "id": "fecbaa3e",
   "metadata": {},
   "outputs": [
    {
     "name": "stdout",
     "output_type": "stream",
     "text": [
      "Fitting 3 folds for each of 64 candidates, totalling 192 fits\n",
      "Training Scores:\n",
      "MAE: 1.658570728386529\n",
      "MSE: 13.408257353679742\n",
      "RMSE: 3.6617287384075494\n",
      "R2: 0.9742573334936776\n",
      "\n",
      "Testing Scores:\n",
      "MAE: 3.6836511578631725\n",
      "MSE: 61.20468158922635\n",
      "RMSE: 7.823342098440176\n",
      "R2: 0.8834112403889725\n",
      "\n",
      "Wall time: 7h 5min 59s\n"
     ]
    }
   ],
   "source": [
    "%%time\n",
    "rf = RandomForestRegressor()\n",
    "rf_grid_search_Model = GridSearchCV(\n",
    "    rf,\n",
    "    param_grid=random_grid,\n",
    "    cv=3,\n",
    "    verbose=3,\n",
    "    n_jobs=-1\n",
    ")\n",
    "rf_grid_search_Model.fit(scaled_xtrain,ytrain)\n",
    "\n",
    "# Evaluate the Random Forest Optmized Regressor model\n",
    "model_evaluation(rf_grid_search_Model, scaled_xtrain, ytrain, scaled_xtest, ytest)"
   ]
  },
  {
   "cell_type": "code",
   "execution_count": 22,
   "id": "0eeda889",
   "metadata": {},
   "outputs": [
    {
     "data": {
      "text/plain": [
       "{'min_samples_leaf': 2, 'min_samples_split': 2, 'n_estimators': 40}"
      ]
     },
     "execution_count": 22,
     "metadata": {},
     "output_type": "execute_result"
    }
   ],
   "source": [
    "rf_grid_search_Model.best_params_"
   ]
  },
  {
   "cell_type": "code",
   "execution_count": 23,
   "id": "1aaeb231",
   "metadata": {},
   "outputs": [
    {
     "name": "stdout",
     "output_type": "stream",
     "text": [
      "Training Scores:\n",
      "MAE: 1.6628462749648945\n",
      "MSE: 13.434227259403482\n",
      "RMSE: 3.6652731493578323\n",
      "R2: 0.9742074735749265\n",
      "\n",
      "Testing Scores:\n",
      "MAE: 3.700418908956759\n",
      "MSE: 61.1958509452154\n",
      "RMSE: 7.822777700102145\n",
      "R2: 0.883428061877216\n",
      "\n"
     ]
    }
   ],
   "source": [
    "final_rf_Model = rf_grid_search_Model.best_estimator_\n",
    "final_rf_Model.fit(scaled_xtrain,ytrain)\n",
    "\n",
    "# Evaluate the Final Random Forest Regressor model\n",
    "model_evaluation(final_rf_Model, scaled_xtrain, ytrain, scaled_xtest, ytest)"
   ]
  },
  {
   "cell_type": "markdown",
   "id": "4e6b32a8",
   "metadata": {},
   "source": [
    "### In this notebook, I have performed hyperparameter tuning on Random Forest Model, since the Random Forest Model with the default parameters was overfitting. The best parameters got will be then used on the complete dataset."
   ]
  },
  {
   "cell_type": "code",
   "execution_count": null,
   "id": "f5a30c77",
   "metadata": {},
   "outputs": [],
   "source": []
  },
  {
   "cell_type": "code",
   "execution_count": null,
   "id": "fb01bb1b",
   "metadata": {},
   "outputs": [],
   "source": []
  },
  {
   "cell_type": "code",
   "execution_count": null,
   "id": "7b763e7b",
   "metadata": {},
   "outputs": [],
   "source": []
  },
  {
   "cell_type": "code",
   "execution_count": null,
   "id": "12a4ac05",
   "metadata": {},
   "outputs": [],
   "source": []
  }
 ],
 "metadata": {
  "kernelspec": {
   "display_name": "Python 3 (ipykernel)",
   "language": "python",
   "name": "python3"
  },
  "language_info": {
   "codemirror_mode": {
    "name": "ipython",
    "version": 3
   },
   "file_extension": ".py",
   "mimetype": "text/x-python",
   "name": "python",
   "nbconvert_exporter": "python",
   "pygments_lexer": "ipython3",
   "version": "3.9.13"
  }
 },
 "nbformat": 4,
 "nbformat_minor": 5
}
