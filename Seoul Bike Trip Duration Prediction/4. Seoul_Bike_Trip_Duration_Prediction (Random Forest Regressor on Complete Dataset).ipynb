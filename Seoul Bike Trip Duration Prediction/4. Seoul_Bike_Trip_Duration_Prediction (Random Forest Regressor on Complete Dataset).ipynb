{
 "cells": [
  {
   "cell_type": "code",
   "execution_count": 1,
   "id": "41282ccf",
   "metadata": {},
   "outputs": [],
   "source": [
    "import numpy as np\n",
    "import pandas as pd\n",
    "import matplotlib.pyplot as plt\n",
    "import seaborn as sns\n",
    "\n",
    "from sklearn.preprocessing import StandardScaler\n",
    "\n",
    "from sklearn.model_selection import train_test_split\n",
    "from sklearn.model_selection import GridSearchCV\n",
    "\n",
    "from sklearn.ensemble import RandomForestRegressor\n",
    "\n",
    "from sklearn.metrics import mean_squared_error, mean_absolute_error, r2_score\n",
    "\n",
    "import warnings\n",
    "warnings.filterwarnings('ignore')\n",
    "\n",
    "%matplotlib inline"
   ]
  },
  {
   "cell_type": "code",
   "execution_count": 2,
   "id": "e669f028",
   "metadata": {},
   "outputs": [],
   "source": [
    "data_path = r\"C:\\Users\\USER-PC\\Desktop\\Akash Cloudy ML\\3. ML Projects\\4. Seoul Bike Trip Duraion Prediction\\cleaned_seoul_bike_data.csv\""
   ]
  },
  {
   "cell_type": "code",
   "execution_count": 3,
   "id": "e836655b",
   "metadata": {},
   "outputs": [
    {
     "data": {
      "text/html": [
       "<div>\n",
       "<style scoped>\n",
       "    .dataframe tbody tr th:only-of-type {\n",
       "        vertical-align: middle;\n",
       "    }\n",
       "\n",
       "    .dataframe tbody tr th {\n",
       "        vertical-align: top;\n",
       "    }\n",
       "\n",
       "    .dataframe thead th {\n",
       "        text-align: right;\n",
       "    }\n",
       "</style>\n",
       "<table border=\"1\" class=\"dataframe\">\n",
       "  <thead>\n",
       "    <tr style=\"text-align: right;\">\n",
       "      <th></th>\n",
       "      <th>Duration</th>\n",
       "      <th>Distance</th>\n",
       "      <th>PLong</th>\n",
       "      <th>PLatd</th>\n",
       "      <th>DLong</th>\n",
       "      <th>DLatd</th>\n",
       "      <th>Haversine</th>\n",
       "      <th>Pmonth</th>\n",
       "      <th>Pday</th>\n",
       "      <th>Phour</th>\n",
       "      <th>...</th>\n",
       "      <th>Dmin</th>\n",
       "      <th>DDweek</th>\n",
       "      <th>Temp</th>\n",
       "      <th>Precip</th>\n",
       "      <th>Wind</th>\n",
       "      <th>Humid</th>\n",
       "      <th>Solar</th>\n",
       "      <th>Snow</th>\n",
       "      <th>GroundTemp</th>\n",
       "      <th>Dust</th>\n",
       "    </tr>\n",
       "  </thead>\n",
       "  <tbody>\n",
       "    <tr>\n",
       "      <th>0</th>\n",
       "      <td>21</td>\n",
       "      <td>118</td>\n",
       "      <td>37.571068</td>\n",
       "      <td>126.998192</td>\n",
       "      <td>37.565331</td>\n",
       "      <td>127.007843</td>\n",
       "      <td>1.063239</td>\n",
       "      <td>12</td>\n",
       "      <td>21</td>\n",
       "      <td>18</td>\n",
       "      <td>...</td>\n",
       "      <td>29</td>\n",
       "      <td>4</td>\n",
       "      <td>8.7</td>\n",
       "      <td>0.0</td>\n",
       "      <td>1.2</td>\n",
       "      <td>35.0</td>\n",
       "      <td>0.00</td>\n",
       "      <td>0.0</td>\n",
       "      <td>3.6</td>\n",
       "      <td>119.0</td>\n",
       "    </tr>\n",
       "    <tr>\n",
       "      <th>1</th>\n",
       "      <td>14</td>\n",
       "      <td>68</td>\n",
       "      <td>37.545166</td>\n",
       "      <td>127.057510</td>\n",
       "      <td>37.556030</td>\n",
       "      <td>127.078644</td>\n",
       "      <td>2.220476</td>\n",
       "      <td>9</td>\n",
       "      <td>12</td>\n",
       "      <td>14</td>\n",
       "      <td>...</td>\n",
       "      <td>34</td>\n",
       "      <td>2</td>\n",
       "      <td>26.9</td>\n",
       "      <td>0.0</td>\n",
       "      <td>1.6</td>\n",
       "      <td>45.0</td>\n",
       "      <td>2.27</td>\n",
       "      <td>0.0</td>\n",
       "      <td>39.5</td>\n",
       "      <td>18.0</td>\n",
       "    </tr>\n",
       "    <tr>\n",
       "      <th>2</th>\n",
       "      <td>3</td>\n",
       "      <td>68</td>\n",
       "      <td>37.478180</td>\n",
       "      <td>126.897408</td>\n",
       "      <td>37.476952</td>\n",
       "      <td>126.891869</td>\n",
       "      <td>0.507496</td>\n",
       "      <td>11</td>\n",
       "      <td>6</td>\n",
       "      <td>7</td>\n",
       "      <td>...</td>\n",
       "      <td>23</td>\n",
       "      <td>1</td>\n",
       "      <td>8.3</td>\n",
       "      <td>0.0</td>\n",
       "      <td>0.9</td>\n",
       "      <td>84.0</td>\n",
       "      <td>0.00</td>\n",
       "      <td>0.0</td>\n",
       "      <td>6.1</td>\n",
       "      <td>72.0</td>\n",
       "    </tr>\n",
       "    <tr>\n",
       "      <th>3</th>\n",
       "      <td>18</td>\n",
       "      <td>42</td>\n",
       "      <td>37.510658</td>\n",
       "      <td>126.842537</td>\n",
       "      <td>37.530338</td>\n",
       "      <td>126.838257</td>\n",
       "      <td>2.220635</td>\n",
       "      <td>11</td>\n",
       "      <td>11</td>\n",
       "      <td>17</td>\n",
       "      <td>...</td>\n",
       "      <td>37</td>\n",
       "      <td>6</td>\n",
       "      <td>8.9</td>\n",
       "      <td>0.0</td>\n",
       "      <td>3.0</td>\n",
       "      <td>57.0</td>\n",
       "      <td>0.03</td>\n",
       "      <td>0.0</td>\n",
       "      <td>8.7</td>\n",
       "      <td>78.0</td>\n",
       "    </tr>\n",
       "    <tr>\n",
       "      <th>4</th>\n",
       "      <td>45</td>\n",
       "      <td>86</td>\n",
       "      <td>37.551250</td>\n",
       "      <td>127.035103</td>\n",
       "      <td>37.582592</td>\n",
       "      <td>127.028976</td>\n",
       "      <td>3.526667</td>\n",
       "      <td>7</td>\n",
       "      <td>3</td>\n",
       "      <td>23</td>\n",
       "      <td>...</td>\n",
       "      <td>35</td>\n",
       "      <td>2</td>\n",
       "      <td>26.4</td>\n",
       "      <td>0.0</td>\n",
       "      <td>0.3</td>\n",
       "      <td>78.0</td>\n",
       "      <td>0.00</td>\n",
       "      <td>0.0</td>\n",
       "      <td>23.9</td>\n",
       "      <td>13.0</td>\n",
       "    </tr>\n",
       "  </tbody>\n",
       "</table>\n",
       "<p>5 rows × 25 columns</p>\n",
       "</div>"
      ],
      "text/plain": [
       "   Duration  Distance      PLong       PLatd      DLong       DLatd  \\\n",
       "0        21       118  37.571068  126.998192  37.565331  127.007843   \n",
       "1        14        68  37.545166  127.057510  37.556030  127.078644   \n",
       "2         3        68  37.478180  126.897408  37.476952  126.891869   \n",
       "3        18        42  37.510658  126.842537  37.530338  126.838257   \n",
       "4        45        86  37.551250  127.035103  37.582592  127.028976   \n",
       "\n",
       "   Haversine  Pmonth  Pday  Phour  ...  Dmin  DDweek  Temp  Precip  Wind  \\\n",
       "0   1.063239      12    21     18  ...    29       4   8.7     0.0   1.2   \n",
       "1   2.220476       9    12     14  ...    34       2  26.9     0.0   1.6   \n",
       "2   0.507496      11     6      7  ...    23       1   8.3     0.0   0.9   \n",
       "3   2.220635      11    11     17  ...    37       6   8.9     0.0   3.0   \n",
       "4   3.526667       7     3     23  ...    35       2  26.4     0.0   0.3   \n",
       "\n",
       "   Humid  Solar  Snow  GroundTemp   Dust  \n",
       "0   35.0   0.00   0.0         3.6  119.0  \n",
       "1   45.0   2.27   0.0        39.5   18.0  \n",
       "2   84.0   0.00   0.0         6.1   72.0  \n",
       "3   57.0   0.03   0.0         8.7   78.0  \n",
       "4   78.0   0.00   0.0        23.9   13.0  \n",
       "\n",
       "[5 rows x 25 columns]"
      ]
     },
     "execution_count": 3,
     "metadata": {},
     "output_type": "execute_result"
    }
   ],
   "source": [
    "df = pd.read_csv(\n",
    "        data_path,\n",
    "        dtype={\n",
    "            'Duration':'int8',\n",
    "            'Distance':'int8',\n",
    "            'PLong':'float32',\n",
    "            'PLatd':'float32',\n",
    "            'DLong':'float32',\n",
    "            'DLatd':'float32',\n",
    "            'Haversine':'float32',\n",
    "            'Pmonth':'int8',\n",
    "            'Pday':'int8',\n",
    "            'Phour':'int8',\n",
    "            'Pmin':'int8',\n",
    "            'PDweek':'int8',\n",
    "            'Dmonth':'int8',\n",
    "            'Dday':'int8',\n",
    "            'Dhour':'int8',\n",
    "            'Dmin':'int8',\n",
    "            'DDweek':'int8',\n",
    "            'Temp':'float32',\n",
    "            'Precip':'float32',\n",
    "            'Wind':'float32',\n",
    "            'Humid':'float32',\n",
    "            'Solar':'float32',\n",
    "            'Snow':'float32',\n",
    "            'GroundTemp':'float32',\n",
    "            'Dust':'float32'\n",
    "        }\n",
    ")\n",
    "df.head()"
   ]
  },
  {
   "cell_type": "code",
   "execution_count": 4,
   "id": "e867c826",
   "metadata": {},
   "outputs": [
    {
     "data": {
      "text/plain": [
       "(8583860, 25)"
      ]
     },
     "execution_count": 4,
     "metadata": {},
     "output_type": "execute_result"
    }
   ],
   "source": [
    "df.shape"
   ]
  },
  {
   "cell_type": "code",
   "execution_count": 5,
   "id": "13d7988c",
   "metadata": {},
   "outputs": [
    {
     "name": "stdout",
     "output_type": "stream",
     "text": [
      "<class 'pandas.core.frame.DataFrame'>\n",
      "RangeIndex: 8583860 entries, 0 to 8583859\n",
      "Data columns (total 25 columns):\n",
      " #   Column      Dtype  \n",
      "---  ------      -----  \n",
      " 0   Duration    int8   \n",
      " 1   Distance    int8   \n",
      " 2   PLong       float32\n",
      " 3   PLatd       float32\n",
      " 4   DLong       float32\n",
      " 5   DLatd       float32\n",
      " 6   Haversine   float32\n",
      " 7   Pmonth      int8   \n",
      " 8   Pday        int8   \n",
      " 9   Phour       int8   \n",
      " 10  Pmin        int8   \n",
      " 11  PDweek      int8   \n",
      " 12  Dmonth      int8   \n",
      " 13  Dday        int8   \n",
      " 14  Dhour       int8   \n",
      " 15  Dmin        int8   \n",
      " 16  DDweek      int8   \n",
      " 17  Temp        float32\n",
      " 18  Precip      float32\n",
      " 19  Wind        float32\n",
      " 20  Humid       float32\n",
      " 21  Solar       float32\n",
      " 22  Snow        float32\n",
      " 23  GroundTemp  float32\n",
      " 24  Dust        float32\n",
      "dtypes: float32(13), int8(12)\n",
      "memory usage: 523.9 MB\n"
     ]
    }
   ],
   "source": [
    "df.info()"
   ]
  },
  {
   "cell_type": "code",
   "execution_count": 6,
   "id": "7779cbf0",
   "metadata": {},
   "outputs": [],
   "source": [
    "x = df.iloc[:, 1:]\n",
    "y = df.iloc[:, 0]"
   ]
  },
  {
   "cell_type": "code",
   "execution_count": 7,
   "id": "43e54228",
   "metadata": {},
   "outputs": [
    {
     "name": "stdout",
     "output_type": "stream",
     "text": [
      "   Distance      PLong       PLatd      DLong       DLatd  Haversine  Pmonth  \\\n",
      "0       118  37.571068  126.998192  37.565331  127.007843   1.063239      12   \n",
      "1        68  37.545166  127.057510  37.556030  127.078644   2.220476       9   \n",
      "2        68  37.478180  126.897408  37.476952  126.891869   0.507496      11   \n",
      "3        42  37.510658  126.842537  37.530338  126.838257   2.220635      11   \n",
      "4        86  37.551250  127.035103  37.582592  127.028976   3.526667       7   \n",
      "\n",
      "   Pday  Phour  Pmin  ...  Dmin  DDweek  Temp  Precip  Wind  Humid  Solar  \\\n",
      "0    21     18     7  ...    29       4   8.7     0.0   1.2   35.0   0.00   \n",
      "1    12     14    18  ...    34       2  26.9     0.0   1.6   45.0   2.27   \n",
      "2     6      7    20  ...    23       1   8.3     0.0   0.9   84.0   0.00   \n",
      "3    11     17    18  ...    37       6   8.9     0.0   3.0   57.0   0.03   \n",
      "4     3     23    49  ...    35       2  26.4     0.0   0.3   78.0   0.00   \n",
      "\n",
      "   Snow  GroundTemp   Dust  \n",
      "0   0.0         3.6  119.0  \n",
      "1   0.0        39.5   18.0  \n",
      "2   0.0         6.1   72.0  \n",
      "3   0.0         8.7   78.0  \n",
      "4   0.0        23.9   13.0  \n",
      "\n",
      "[5 rows x 24 columns]\n"
     ]
    }
   ],
   "source": [
    "print(x.head())"
   ]
  },
  {
   "cell_type": "code",
   "execution_count": 8,
   "id": "eb550a10",
   "metadata": {},
   "outputs": [
    {
     "name": "stdout",
     "output_type": "stream",
     "text": [
      "0    21\n",
      "1    14\n",
      "2     3\n",
      "3    18\n",
      "4    45\n",
      "Name: Duration, dtype: int8\n"
     ]
    }
   ],
   "source": [
    "print(y.head())"
   ]
  },
  {
   "cell_type": "code",
   "execution_count": 9,
   "id": "fc4ec736",
   "metadata": {},
   "outputs": [
    {
     "name": "stdout",
     "output_type": "stream",
     "text": [
      "(6437895, 24) (6437895,)\n",
      "(2145965, 24) (2145965,)\n"
     ]
    }
   ],
   "source": [
    "xtrain,xtest,ytrain,ytest = train_test_split(x,y,test_size=0.25,random_state=1)\n",
    "print(xtrain.shape,ytrain.shape)\n",
    "print(xtest.shape,ytest.shape)"
   ]
  },
  {
   "cell_type": "code",
   "execution_count": 10,
   "id": "0a517bc6",
   "metadata": {},
   "outputs": [],
   "source": [
    "# Scaling:-\n",
    "sc = StandardScaler()\n",
    "scaled_xtrain = sc.fit_transform(xtrain)\n",
    "scaled_xtest = sc.transform(xtest)"
   ]
  },
  {
   "cell_type": "code",
   "execution_count": 11,
   "id": "2775aeb0",
   "metadata": {},
   "outputs": [],
   "source": [
    "def model_evaluation(model, xtrain, ytrain, xtest, ytest):\n",
    "    ytrain_pred = model.predict(xtrain)\n",
    "    ytest_pred = model.predict(xtest)\n",
    "\n",
    "    train_mae = mean_absolute_error(ytrain, ytrain_pred)\n",
    "    train_mse = mean_squared_error(ytrain, ytrain_pred)\n",
    "    train_rmse = np.sqrt(train_mse)\n",
    "    train_r2 = r2_score(ytrain, ytrain_pred)\n",
    "\n",
    "    test_mae = mean_absolute_error(ytest, ytest_pred)\n",
    "    test_mse = mean_squared_error(ytest, ytest_pred)\n",
    "    test_rmse = np.sqrt(test_mse)\n",
    "    test_r2 = r2_score(ytest, ytest_pred)\n",
    "\n",
    "    print(\"Training Scores:\")\n",
    "    print(f\"MAE: {train_mae}\\nMSE: {train_mse}\\nRMSE: {train_rmse}\\nR2: {train_r2}\\n\")\n",
    "\n",
    "    print(\"Testing Scores:\")\n",
    "    print(f\"MAE: {test_mae}\\nMSE: {test_mse}\\nRMSE: {test_rmse}\\nR2: {test_r2}\\n\")"
   ]
  },
  {
   "cell_type": "markdown",
   "id": "c1061639",
   "metadata": {},
   "source": [
    "## Random Forest Regressor"
   ]
  },
  {
   "cell_type": "code",
   "execution_count": 12,
   "id": "1854300d",
   "metadata": {},
   "outputs": [
    {
     "name": "stdout",
     "output_type": "stream",
     "text": [
      "Training Scores:\n",
      "MAE: 0.6684590401274568\n",
      "MSE: 3.4669571013672185\n",
      "RMSE: 1.8619766650973955\n",
      "R2: 0.9933663644535675\n",
      "\n",
      "Testing Scores:\n",
      "MAE: 1.4314514249012558\n",
      "MSE: 14.299472225985776\n",
      "RMSE: 3.7814642965372256\n",
      "R2: 0.9726545062924915\n",
      "\n",
      "Wall time: 1h 9min 18s\n"
     ]
    }
   ],
   "source": [
    "%%time\n",
    "rf_model = RandomForestRegressor(**{'min_samples_leaf': 2, 'min_samples_split': 2, 'n_estimators': 40},random_state=1,n_jobs=-1)\n",
    "rf_model.fit(scaled_xtrain,ytrain)\n",
    "\n",
    "# Evaluate the Random Forest Regressor model\n",
    "model_evaluation(rf_model, scaled_xtrain, ytrain, scaled_xtest, ytest)"
   ]
  },
  {
   "cell_type": "code",
   "execution_count": 14,
   "id": "c182ca58",
   "metadata": {},
   "outputs": [
    {
     "data": {
      "text/plain": [
       "['model.joblib']"
      ]
     },
     "execution_count": 14,
     "metadata": {},
     "output_type": "execute_result"
    }
   ],
   "source": [
    "import joblib\n",
    "joblib.dump(rf_model, 'model.joblib')"
   ]
  },
  {
   "cell_type": "code",
   "execution_count": null,
   "id": "0a616cd2",
   "metadata": {},
   "outputs": [],
   "source": []
  },
  {
   "cell_type": "code",
   "execution_count": null,
   "id": "5d18a8ef",
   "metadata": {},
   "outputs": [],
   "source": []
  }
 ],
 "metadata": {
  "kernelspec": {
   "display_name": "Python 3 (ipykernel)",
   "language": "python",
   "name": "python3"
  },
  "language_info": {
   "codemirror_mode": {
    "name": "ipython",
    "version": 3
   },
   "file_extension": ".py",
   "mimetype": "text/x-python",
   "name": "python",
   "nbconvert_exporter": "python",
   "pygments_lexer": "ipython3",
   "version": "3.9.13"
  }
 },
 "nbformat": 4,
 "nbformat_minor": 5
}
